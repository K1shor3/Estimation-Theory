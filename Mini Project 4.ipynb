{
 "cells": [
  {
   "cell_type": "code",
   "execution_count": 3,
   "metadata": {},
   "outputs": [],
   "source": [
    "import numpy as np\n",
    "from tqdm import tqdm\n",
    "import matplotlib.pyplot as plt\n",
    "from functools import partial\n",
    "from scipy import optimize\n",
    "import scipy.stats as stats\n",
    "import math\n",
    "import scipy\n",
    "from scipy.optimize import fmin"
   ]
  },
  {
   "cell_type": "code",
   "execution_count": 4,
   "metadata": {},
   "outputs": [],
   "source": [
    "def generate_samples(n,mean_vec,cov_mat):\n",
    "    \"\"\"\n",
    "    Generate n samples from multivariate Gaussian dist\n",
    "    \"\"\"\n",
    "    Y = np.random.multivariate_normal(mean_vec,cov_mat,n)\n",
    "    return Y"
   ]
  },
  {
   "cell_type": "markdown",
   "metadata": {},
   "source": [
    "# Question 1"
   ]
  },
  {
   "cell_type": "code",
   "execution_count": 5,
   "metadata": {},
   "outputs": [],
   "source": [
    "def max_likelihood(Y,n):\n",
    "\n",
    "    s = np.zeros([2,2])\n",
    "    for i in range(n):\n",
    "        s = s + np.outer(Y[i],Y[i])\n",
    "    s = s/n\n",
    "    \n",
    "    print(\"MLE: \"+str(s))"
   ]
  },
  {
   "cell_type": "markdown",
   "metadata": {},
   "source": [
    "# Question 2 and 3"
   ]
  },
  {
   "cell_type": "code",
   "execution_count": 19,
   "metadata": {},
   "outputs": [],
   "source": [
    "def bayes_estim(Y,v_0,delta_0,n,prior=\"Wishart\"):\n",
    "    \n",
    "    s = np.zeros([2,2])\n",
    "    for i in range(n):\n",
    "        s = s + np.outer(Y[i],Y[i])\n",
    "    \n",
    "    v_n = v_0 + n\n",
    "    delta_n = delta_0 + s\n",
    "    \n",
    "    if(prior==\"Wishart\"):\n",
    "        generator = stats.invwishart(df = v_n,scale=delta_n)\n",
    "    if(prior==\"Non_Info_Jeffrey\"):\n",
    "        v_n=1+n\n",
    "        delta_n=0+s\n",
    "        generator = stats.invwishart(df=v_n,scale=delta_n)\n",
    "    if(prior==\"Indep_Jeffrey\"):\n",
    "        v_n=0+n\n",
    "        delta_n=0+s\n",
    "        generator = stats.invwishart(df=v_n,scale=delta_n)\n",
    "    \n",
    "\n",
    "    mmse = generator.mean()\n",
    "    mAP = generator.mode()\n",
    "\n",
    "    print(\"\\nBayes MMSE: \" + str(mmse))\n",
    "    print(\"\\nBayes mAP: \"+ str(mAP))"
   ]
  },
  {
   "cell_type": "markdown",
   "metadata": {},
   "source": [
    "# Question 4"
   ]
  },
  {
   "cell_type": "code",
   "execution_count": 7,
   "metadata": {},
   "outputs": [],
   "source": [
    "def bayes_monte_carlo(Y,v_0,delta_0,n,m):\n",
    "    \n",
    "    s = np.zeros([2,2])\n",
    "    for i in range(n):\n",
    "        s = s + np.outer(Y[i],Y[i])\n",
    "    \n",
    "    v_n = v_0 + n\n",
    "    delta_n = delta_0 + s\n",
    "\n",
    "    generator = stats.invwishart(df = v_n,scale=delta_n)\n",
    "    \n",
    "    numer = np.zeros([2,2])\n",
    "    denom = 0\n",
    "    \n",
    "    for i in range(m):\n",
    "\n",
    "        sigma = generator.rvs(size=1)\n",
    "\n",
    "        numer = numer + (1/(i+1))*(sigma-numer)\n",
    "\n",
    "        denom = denom + (1/(i+1))*(1-denom)\n",
    "    \n",
    "    print(\"\\nMC integ: \"+str(numer/denom))\n"
   ]
  },
  {
   "cell_type": "markdown",
   "metadata": {},
   "source": [
    "# Question 5"
   ]
  },
  {
   "cell_type": "code",
   "execution_count": 8,
   "metadata": {},
   "outputs": [],
   "source": [
    "def gibbs_sampler(Y,v_0,A_1,A_2,n):\n",
    "\n",
    "    s = np.zeros([2,2])\n",
    "    for i in range(n):\n",
    "        s = s + np.outer(Y[i],Y[i])        \n",
    "\n",
    "    v_n = v_0 + n\n",
    "    \n",
    "    a_1 = stats.invgamma.rvs(scale = 0.5, a = 1/(A_1)**2,size=1)\n",
    "    a_2 = stats.invgamma.rvs(scale = 0.5, a = 1/(A_2)**2,size=1)\n",
    "    a_1= 0.5\n",
    "    a_2 = 0.5\n",
    "    cov_mat = np.zeros([2,2])\n",
    "    for k in range(1000):\n",
    "        sigma = stats.invwishart.rvs(df=v_0+1+n,scale=2*v_0*np.diag([a_1,a_2])+s,size=1)\n",
    "        cov_mat = cov_mat + (1/(k+1))*(sigma-cov_mat)\n",
    "        \n",
    "        a_1 = stats.invgamma.rvs(scale=(v_0+n)/2,a=v_0*np.linalg.inv(sigma)[0,0]+1/(A_1)**2,size=1)\n",
    "        a_2 = stats.invgamma.rvs(scale=(v_0+n)/2,a=v_0*np.linalg.inv(sigma)[1,1]+1/(A_2)**2,size=1)\n",
    "\n",
    "    print(\"\\nGibbs estim: \"+str(cov_mat))"
   ]
  },
  {
   "cell_type": "markdown",
   "metadata": {},
   "source": [
    "# Question 6"
   ]
  },
  {
   "cell_type": "code",
   "execution_count": 9,
   "metadata": {},
   "outputs": [],
   "source": [
    "def empirical_bayes(Y,v_0,n):\n",
    "    s = np.zeros([2,2])\n",
    "    for i in range(n):\n",
    "        s = s + np.outer(Y[i],Y[i])\n",
    "        \n",
    "    nu_opt = optimize.minimize(equations,[v_0],bounds=[(1.001, 5000)])\n",
    "    nu_opt=nu_opt.x[0]\n",
    "    delta_opt=nu_opt/n*s\n",
    "    \n",
    "    \n",
    "    generator = stats.invwishart(df = nu_opt+n,scale=delta_opt+s)\n",
    "    \n",
    "\n",
    "    mmse = generator.mean()\n",
    "    mAP = generator.mode()\n",
    "    print(\"\\nBayes MMSE: \" + str(mmse))\n",
    "    print(\"\\nBayes mAP: \"+ str(mAP))\n",
    "    "
   ]
  },
  {
   "cell_type": "code",
   "execution_count": 10,
   "metadata": {},
   "outputs": [],
   "source": [
    "def multivariate_gamma(a,d):\n",
    "    return scipy.special.multigammaln(a,d)"
   ]
  },
  {
   "cell_type": "code",
   "execution_count": 11,
   "metadata": {},
   "outputs": [],
   "source": [
    "def equations(nu):\n",
    "    #print(nu)\n",
    "    return -(nu*np.log((nu+n)/nu)+n*(nu+n)/n+multivariate_gamma(nu/2,2)-multivariate_gamma((nu+n)/2,2))"
   ]
  },
  {
   "cell_type": "markdown",
   "metadata": {},
   "source": [
    "## Experiments for n=1000"
   ]
  },
  {
   "cell_type": "code",
   "execution_count": 12,
   "metadata": {},
   "outputs": [],
   "source": [
    "n = 1000\n",
    "cov_mat = np.array([[1,0],[0,2]])\n",
    "mean_vec = np.array([0,0])\n",
    "v_0 = 5\n",
    "delta_0 = np.array([[4,0],[0,5]])\n",
    "m = 1000\n",
    "A_1 = 0.05\n",
    "A_2 = 0.05"
   ]
  },
  {
   "cell_type": "code",
   "execution_count": 13,
   "metadata": {},
   "outputs": [],
   "source": [
    "Y=generate_samples(n,mean_vec,cov_mat)"
   ]
  },
  {
   "cell_type": "code",
   "execution_count": 20,
   "metadata": {},
   "outputs": [
    {
     "name": "stdout",
     "output_type": "stream",
     "text": [
      "MLE: [[1.02338679 0.04637075]\n",
      " [0.04637075 1.93440882]]\n",
      "\n",
      "Bayes MMSE: [[1.02533612 0.04627819]\n",
      " [0.04627819 1.93553775]]\n",
      "\n",
      "Bayes mAP: [[1.01923292 0.04600273]\n",
      " [0.04600273 1.92401669]]\n",
      "\n",
      "Bayes MMSE: [[1.02543766 0.04646367]\n",
      " [0.04646367 1.93828539]]\n",
      "\n",
      "Bayes mAP: [[1.01930955 0.046186  ]\n",
      " [0.046186   1.92670201]]\n",
      "\n",
      "Bayes MMSE: [[1.02646619 0.04651028]\n",
      " [0.04651028 1.94022951]]\n",
      "\n",
      "Bayes mAP: [[1.02032581 0.04623205]\n",
      " [0.04623205 1.92862295]]\n",
      "\n",
      "MC integ: [[1.02525955 0.04979363]\n",
      " [0.04979363 1.93847193]]\n",
      "\n",
      "Gibbs estim: [[1.02945399 0.05770923]\n",
      " [0.05770923 1.94655608]]\n",
      "\n",
      "Bayes MMSE: [[1.0264631  0.04651014]\n",
      " [0.04651014 1.94022367]]\n",
      "\n",
      "Bayes mAP: [[1.02032886 0.04623219]\n",
      " [0.04623219 1.92862872]]\n"
     ]
    }
   ],
   "source": [
    "max_likelihood(Y,n)\n",
    "bayes_estim(Y,v_0,delta_0,n)\n",
    "bayes_estim(Y,v_0,delta_0,n,prior=\"Non_Info_Jeffrey\")\n",
    "bayes_estim(Y,v_0,delta_0,n,prior=\"Indep_Jeffrey\")\n",
    "bayes_monte_carlo(Y,v_0,delta_0,n,m)\n",
    "gibbs_sampler(Y,v_0,A_1,A_2,n)\n",
    "empirical_bayes(Y,v_0,n)"
   ]
  },
  {
   "cell_type": "markdown",
   "metadata": {},
   "source": [
    "## Experiments for n=100"
   ]
  },
  {
   "cell_type": "code",
   "execution_count": 21,
   "metadata": {},
   "outputs": [],
   "source": [
    "n=100"
   ]
  },
  {
   "cell_type": "code",
   "execution_count": 23,
   "metadata": {},
   "outputs": [
    {
     "name": "stdout",
     "output_type": "stream",
     "text": [
      "MLE: [[ 1.02540292 -0.20723622]\n",
      " [-0.20723622  1.77015488]]\n",
      "\n",
      "Bayes MMSE: [[ 1.04451267 -0.20317276]\n",
      " [-0.20317276  1.78446557]]\n",
      "\n",
      "Bayes mAP: [[ 0.98648419 -0.19188539]\n",
      " [-0.19188539  1.6853286 ]]\n",
      "\n",
      "Bayes MMSE: [[ 1.04632951 -0.21146553]\n",
      " [-0.21146553  1.80628049]]\n",
      "\n",
      "Bayes mAP: [[ 0.98596435 -0.1992656 ]\n",
      " [-0.1992656   1.702072  ]]\n",
      "\n",
      "Bayes MMSE: [[ 1.05711641 -0.21364559]\n",
      " [-0.21364559  1.82490194]]\n",
      "\n",
      "Bayes mAP: [[ 0.99553682 -0.20120021]\n",
      " [-0.20120021  1.71859698]]\n",
      "\n",
      "MC integ: [[ 1.05177889 -0.20575317]\n",
      " [-0.20575317  1.76491716]]\n",
      "\n",
      "Gibbs estim: [[ 1.01022174 -0.18723492]\n",
      " [-0.18723492  1.72285557]]\n",
      "\n",
      "Bayes MMSE: [[ 1.05679249 -0.21358012]\n",
      " [-0.21358012  1.82434275]]\n",
      "\n",
      "Bayes mAP: [[ 0.99582427 -0.20125831]\n",
      " [-0.20125831  1.71909322]]\n"
     ]
    }
   ],
   "source": [
    "max_likelihood(Y,n)\n",
    "bayes_estim(Y,v_0,delta_0,n)\n",
    "bayes_estim(Y,v_0,delta_0,n,prior=\"Non_Info_Jeffrey\")\n",
    "bayes_estim(Y,v_0,delta_0,n,prior=\"Indep_Jeffrey\")\n",
    "bayes_monte_carlo(Y,v_0,delta_0,n,m)\n",
    "gibbs_sampler(Y,v_0,A_1,A_2,n)\n",
    "empirical_bayes(Y,v_0,n)"
   ]
  },
  {
   "cell_type": "code",
   "execution_count": 24,
   "metadata": {},
   "outputs": [],
   "source": [
    "n=10"
   ]
  },
  {
   "cell_type": "code",
   "execution_count": 25,
   "metadata": {},
   "outputs": [
    {
     "name": "stdout",
     "output_type": "stream",
     "text": [
      "MLE: [[1.10028495 0.18197701]\n",
      " [0.18197701 1.96976728]]\n",
      "\n",
      "Bayes MMSE: [[1.25023746 0.15164751]\n",
      " [0.15164751 2.0581394 ]]\n",
      "\n",
      "Bayes mAP: [[0.83349164 0.10109834]\n",
      " [0.10109834 1.37209293]]\n",
      "\n",
      "Bayes MMSE: [[1.37535619 0.22747126]\n",
      " [0.22747126 2.4622091 ]]\n",
      "\n",
      "Bayes mAP: [[0.78591782 0.12998358]\n",
      " [0.12998358 1.40697663]]\n",
      "\n",
      "Bayes MMSE: [[1.57183565 0.25996716]\n",
      " [0.25996716 2.81395325]]\n",
      "\n",
      "Bayes mAP: [[0.84637304 0.13998232]\n",
      " [0.13998232 1.5152056 ]]\n",
      "\n",
      "MC integ: [[1.23325878 0.14210141]\n",
      " [0.14210141 2.09194999]]\n",
      "\n",
      "Gibbs estim: [[0.8483222  0.1661405 ]\n",
      " [0.1661405  1.55620297]]\n",
      "\n",
      "Bayes MMSE: [[1.1009442  0.18208604]\n",
      " [0.18208604 1.97094749]]\n",
      "\n",
      "Bayes mAP: [[1.0996265  0.18186811]\n",
      " [0.18186811 1.96858848]]\n"
     ]
    }
   ],
   "source": [
    "max_likelihood(Y,n)\n",
    "bayes_estim(Y,v_0,delta_0,n)\n",
    "bayes_estim(Y,v_0,delta_0,n,prior=\"Non_Info_Jeffrey\")\n",
    "bayes_estim(Y,v_0,delta_0,n,prior=\"Indep_Jeffrey\")\n",
    "bayes_monte_carlo(Y,v_0,delta_0,n,m)\n",
    "gibbs_sampler(Y,v_0,A_1,A_2,n)\n",
    "empirical_bayes(Y,v_0,n)"
   ]
  },
  {
   "cell_type": "markdown",
   "metadata": {},
   "source": [
    "All methods perform similar when there is a lot of data available. Empirical Bayes is essentially MLE. So, low data Empirical Bayes/MLE, and when there is lot of data available Gibbs/empirical bayes"
   ]
  }
 ],
 "metadata": {
  "kernelspec": {
   "display_name": "Python 3",
   "language": "python",
   "name": "python3"
  },
  "language_info": {
   "codemirror_mode": {
    "name": "ipython",
    "version": 3
   },
   "file_extension": ".py",
   "mimetype": "text/x-python",
   "name": "python",
   "nbconvert_exporter": "python",
   "pygments_lexer": "ipython3",
   "version": "3.7.6"
  }
 },
 "nbformat": 4,
 "nbformat_minor": 4
}
